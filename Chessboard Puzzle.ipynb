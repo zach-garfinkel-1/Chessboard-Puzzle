{
 "cells": [
  {
   "cell_type": "markdown",
   "metadata": {},
   "source": [
    "# Chessboard Puzzle"
   ]
  },
  {
   "cell_type": "markdown",
   "metadata": {},
   "source": [
    "## Imports"
   ]
  },
  {
   "cell_type": "code",
   "execution_count": 37,
   "metadata": {
    "ExecuteTime": {
     "end_time": "2020-07-06T17:17:22.983542Z",
     "start_time": "2020-07-06T17:17:22.973652Z"
    }
   },
   "outputs": [],
   "source": [
    "# IMPORTS\n",
    "\n",
    "import numpy as np\n",
    "from datascience import *\n",
    "import math\n",
    "import pandas as pd\n",
    "import random\n",
    "\n",
    "import matplotlib.pyplot as plots\n",
    "import matplotlib\n",
    "matplotlib.use('Agg', warn=False)\n",
    "%matplotlib inline\n",
    "plots.style.use('fivethirtyeight')"
   ]
  },
  {
   "cell_type": "markdown",
   "metadata": {},
   "source": [
    "## The Question\n",
    "\n",
    "- There are two prisoners and a warden\n",
    "- The warden will let both prisoners free if they can solve the puzzle\n",
    "- We are prisoner 1, sitting with the warden, and prisoner 2 is not here\n",
    "- The warden shows us a Chess board with 1 coin on each of the 64 squares, flipped randomly heads or tails\n",
    "- He then puts a key under one of the squares (secret compartment in each square)\n",
    "- We know which square it is\n",
    "\n",
    "- We have to flip exactly ONE coin\n",
    "- So that prisoner 2, when he returns, can know exactly where the key is\n",
    "- Before the key is placed under the square, prisoners 1 and 2 were able to come up with a plan together\n",
    "- The warden knows the plan, and can flip the coins in any way he wants to mess up our plan\n",
    "\n",
    "- How is this possible?"
   ]
  },
  {
   "cell_type": "markdown",
   "metadata": {},
   "source": [
    "## The Board"
   ]
  },
  {
   "cell_type": "code",
   "execution_count": 76,
   "metadata": {
    "ExecuteTime": {
     "end_time": "2020-07-06T17:27:13.069997Z",
     "start_time": "2020-07-06T17:27:13.064149Z"
    }
   },
   "outputs": [],
   "source": [
    "# MAKE 64 RANDOM COIN FLIPS, 0=HEADS, 1=TAILS\n",
    "\n",
    "choices = []\n",
    "for i in np.arange(64):\n",
    "    choice = random.choice([0,1])\n",
    "    choices.append(choice)\n",
    "choices = np.array(choices)"
   ]
  },
  {
   "cell_type": "code",
   "execution_count": 77,
   "metadata": {
    "ExecuteTime": {
     "end_time": "2020-07-06T17:27:16.388925Z",
     "start_time": "2020-07-06T17:27:16.374416Z"
    }
   },
   "outputs": [
    {
     "data": {
      "text/html": [
       "<div>\n",
       "<style scoped>\n",
       "    .dataframe tbody tr th:only-of-type {\n",
       "        vertical-align: middle;\n",
       "    }\n",
       "\n",
       "    .dataframe tbody tr th {\n",
       "        vertical-align: top;\n",
       "    }\n",
       "\n",
       "    .dataframe thead th {\n",
       "        text-align: right;\n",
       "    }\n",
       "</style>\n",
       "<table border=\"1\" class=\"dataframe\">\n",
       "  <thead>\n",
       "    <tr style=\"text-align: right;\">\n",
       "      <th></th>\n",
       "      <th>0</th>\n",
       "      <th>1</th>\n",
       "      <th>2</th>\n",
       "      <th>3</th>\n",
       "      <th>4</th>\n",
       "      <th>5</th>\n",
       "      <th>6</th>\n",
       "      <th>7</th>\n",
       "    </tr>\n",
       "  </thead>\n",
       "  <tbody>\n",
       "    <tr>\n",
       "      <td>0</td>\n",
       "      <td>1</td>\n",
       "      <td>0</td>\n",
       "      <td>1</td>\n",
       "      <td>1</td>\n",
       "      <td>1</td>\n",
       "      <td>0</td>\n",
       "      <td>0</td>\n",
       "      <td>1</td>\n",
       "    </tr>\n",
       "    <tr>\n",
       "      <td>1</td>\n",
       "      <td>0</td>\n",
       "      <td>0</td>\n",
       "      <td>1</td>\n",
       "      <td>0</td>\n",
       "      <td>0</td>\n",
       "      <td>0</td>\n",
       "      <td>0</td>\n",
       "      <td>1</td>\n",
       "    </tr>\n",
       "    <tr>\n",
       "      <td>2</td>\n",
       "      <td>1</td>\n",
       "      <td>0</td>\n",
       "      <td>1</td>\n",
       "      <td>1</td>\n",
       "      <td>1</td>\n",
       "      <td>0</td>\n",
       "      <td>0</td>\n",
       "      <td>0</td>\n",
       "    </tr>\n",
       "    <tr>\n",
       "      <td>3</td>\n",
       "      <td>1</td>\n",
       "      <td>0</td>\n",
       "      <td>1</td>\n",
       "      <td>1</td>\n",
       "      <td>1</td>\n",
       "      <td>0</td>\n",
       "      <td>0</td>\n",
       "      <td>0</td>\n",
       "    </tr>\n",
       "    <tr>\n",
       "      <td>4</td>\n",
       "      <td>1</td>\n",
       "      <td>1</td>\n",
       "      <td>1</td>\n",
       "      <td>0</td>\n",
       "      <td>0</td>\n",
       "      <td>0</td>\n",
       "      <td>0</td>\n",
       "      <td>0</td>\n",
       "    </tr>\n",
       "    <tr>\n",
       "      <td>5</td>\n",
       "      <td>1</td>\n",
       "      <td>0</td>\n",
       "      <td>0</td>\n",
       "      <td>1</td>\n",
       "      <td>0</td>\n",
       "      <td>0</td>\n",
       "      <td>1</td>\n",
       "      <td>1</td>\n",
       "    </tr>\n",
       "    <tr>\n",
       "      <td>6</td>\n",
       "      <td>0</td>\n",
       "      <td>1</td>\n",
       "      <td>0</td>\n",
       "      <td>0</td>\n",
       "      <td>1</td>\n",
       "      <td>1</td>\n",
       "      <td>0</td>\n",
       "      <td>1</td>\n",
       "    </tr>\n",
       "    <tr>\n",
       "      <td>7</td>\n",
       "      <td>1</td>\n",
       "      <td>0</td>\n",
       "      <td>0</td>\n",
       "      <td>1</td>\n",
       "      <td>1</td>\n",
       "      <td>1</td>\n",
       "      <td>0</td>\n",
       "      <td>0</td>\n",
       "    </tr>\n",
       "  </tbody>\n",
       "</table>\n",
       "</div>"
      ],
      "text/plain": [
       "   0  1  2  3  4  5  6  7\n",
       "0  1  0  1  1  1  0  0  1\n",
       "1  0  0  1  0  0  0  0  1\n",
       "2  1  0  1  1  1  0  0  0\n",
       "3  1  0  1  1  1  0  0  0\n",
       "4  1  1  1  0  0  0  0  0\n",
       "5  1  0  0  1  0  0  1  1\n",
       "6  0  1  0  0  1  1  0  1\n",
       "7  1  0  0  1  1  1  0  0"
      ]
     },
     "execution_count": 77,
     "metadata": {},
     "output_type": "execute_result"
    }
   ],
   "source": [
    "# RESHAPE DATA TO 8 BY 8 CHESS BOARD\n",
    "\n",
    "board = choices.reshape(8,8)\n",
    "board = pd.DataFrame(board)\n",
    "board"
   ]
  },
  {
   "cell_type": "code",
   "execution_count": 74,
   "metadata": {
    "ExecuteTime": {
     "end_time": "2020-07-06T17:26:07.714769Z",
     "start_time": "2020-07-06T17:26:07.699696Z"
    }
   },
   "outputs": [
    {
     "data": {
      "text/html": [
       "<div>\n",
       "<style scoped>\n",
       "    .dataframe tbody tr th:only-of-type {\n",
       "        vertical-align: middle;\n",
       "    }\n",
       "\n",
       "    .dataframe tbody tr th {\n",
       "        vertical-align: top;\n",
       "    }\n",
       "\n",
       "    .dataframe thead th {\n",
       "        text-align: right;\n",
       "    }\n",
       "</style>\n",
       "<table border=\"1\" class=\"dataframe\">\n",
       "  <thead>\n",
       "    <tr style=\"text-align: right;\">\n",
       "      <th></th>\n",
       "      <th>0</th>\n",
       "      <th>1</th>\n",
       "      <th>2</th>\n",
       "      <th>3</th>\n",
       "      <th>4</th>\n",
       "      <th>5</th>\n",
       "      <th>6</th>\n",
       "      <th>7</th>\n",
       "    </tr>\n",
       "  </thead>\n",
       "  <tbody>\n",
       "    <tr>\n",
       "      <td>0</td>\n",
       "      <td>0</td>\n",
       "      <td>1</td>\n",
       "      <td>2</td>\n",
       "      <td>3</td>\n",
       "      <td>4</td>\n",
       "      <td>5</td>\n",
       "      <td>6</td>\n",
       "      <td>7</td>\n",
       "    </tr>\n",
       "    <tr>\n",
       "      <td>1</td>\n",
       "      <td>8</td>\n",
       "      <td>9</td>\n",
       "      <td>10</td>\n",
       "      <td>11</td>\n",
       "      <td>12</td>\n",
       "      <td>13</td>\n",
       "      <td>14</td>\n",
       "      <td>15</td>\n",
       "    </tr>\n",
       "    <tr>\n",
       "      <td>2</td>\n",
       "      <td>16</td>\n",
       "      <td>17</td>\n",
       "      <td>18</td>\n",
       "      <td>19</td>\n",
       "      <td>20</td>\n",
       "      <td>21</td>\n",
       "      <td>22</td>\n",
       "      <td>23</td>\n",
       "    </tr>\n",
       "    <tr>\n",
       "      <td>3</td>\n",
       "      <td>24</td>\n",
       "      <td>25</td>\n",
       "      <td>26</td>\n",
       "      <td>27</td>\n",
       "      <td>28</td>\n",
       "      <td>29</td>\n",
       "      <td>30</td>\n",
       "      <td>31</td>\n",
       "    </tr>\n",
       "    <tr>\n",
       "      <td>4</td>\n",
       "      <td>32</td>\n",
       "      <td>33</td>\n",
       "      <td>34</td>\n",
       "      <td>35</td>\n",
       "      <td>36</td>\n",
       "      <td>37</td>\n",
       "      <td>38</td>\n",
       "      <td>39</td>\n",
       "    </tr>\n",
       "    <tr>\n",
       "      <td>5</td>\n",
       "      <td>40</td>\n",
       "      <td>41</td>\n",
       "      <td>42</td>\n",
       "      <td>43</td>\n",
       "      <td>44</td>\n",
       "      <td>45</td>\n",
       "      <td>46</td>\n",
       "      <td>47</td>\n",
       "    </tr>\n",
       "    <tr>\n",
       "      <td>6</td>\n",
       "      <td>48</td>\n",
       "      <td>49</td>\n",
       "      <td>50</td>\n",
       "      <td>51</td>\n",
       "      <td>52</td>\n",
       "      <td>53</td>\n",
       "      <td>54</td>\n",
       "      <td>55</td>\n",
       "    </tr>\n",
       "    <tr>\n",
       "      <td>7</td>\n",
       "      <td>56</td>\n",
       "      <td>57</td>\n",
       "      <td>58</td>\n",
       "      <td>59</td>\n",
       "      <td>60</td>\n",
       "      <td>61</td>\n",
       "      <td>62</td>\n",
       "      <td>63</td>\n",
       "    </tr>\n",
       "  </tbody>\n",
       "</table>\n",
       "</div>"
      ],
      "text/plain": [
       "    0   1   2   3   4   5   6   7\n",
       "0   0   1   2   3   4   5   6   7\n",
       "1   8   9  10  11  12  13  14  15\n",
       "2  16  17  18  19  20  21  22  23\n",
       "3  24  25  26  27  28  29  30  31\n",
       "4  32  33  34  35  36  37  38  39\n",
       "5  40  41  42  43  44  45  46  47\n",
       "6  48  49  50  51  52  53  54  55\n",
       "7  56  57  58  59  60  61  62  63"
      ]
     },
     "execution_count": 74,
     "metadata": {},
     "output_type": "execute_result"
    }
   ],
   "source": [
    "# CONVERT EACH PLACE ON BOARD TO NUMBERS 0 through 63\n",
    "\n",
    "numbered = np.arange(64).reshape(8,8)\n",
    "numbered = pd.DataFrame(numbered)\n",
    "numbered"
   ]
  },
  {
   "cell_type": "code",
   "execution_count": 73,
   "metadata": {
    "ExecuteTime": {
     "end_time": "2020-07-06T17:25:45.420803Z",
     "start_time": "2020-07-06T17:25:45.399244Z"
    }
   },
   "outputs": [
    {
     "data": {
      "text/html": [
       "<div>\n",
       "<style scoped>\n",
       "    .dataframe tbody tr th:only-of-type {\n",
       "        vertical-align: middle;\n",
       "    }\n",
       "\n",
       "    .dataframe tbody tr th {\n",
       "        vertical-align: top;\n",
       "    }\n",
       "\n",
       "    .dataframe thead th {\n",
       "        text-align: right;\n",
       "    }\n",
       "</style>\n",
       "<table border=\"1\" class=\"dataframe\">\n",
       "  <thead>\n",
       "    <tr style=\"text-align: right;\">\n",
       "      <th></th>\n",
       "      <th>0</th>\n",
       "      <th>1</th>\n",
       "      <th>2</th>\n",
       "      <th>3</th>\n",
       "      <th>4</th>\n",
       "      <th>5</th>\n",
       "      <th>6</th>\n",
       "      <th>7</th>\n",
       "    </tr>\n",
       "  </thead>\n",
       "  <tbody>\n",
       "    <tr>\n",
       "      <td>0</td>\n",
       "      <td>0</td>\n",
       "      <td>1</td>\n",
       "      <td>10</td>\n",
       "      <td>11</td>\n",
       "      <td>100</td>\n",
       "      <td>101</td>\n",
       "      <td>110</td>\n",
       "      <td>111</td>\n",
       "    </tr>\n",
       "    <tr>\n",
       "      <td>1</td>\n",
       "      <td>1000</td>\n",
       "      <td>1001</td>\n",
       "      <td>1010</td>\n",
       "      <td>1011</td>\n",
       "      <td>1100</td>\n",
       "      <td>1101</td>\n",
       "      <td>1110</td>\n",
       "      <td>1111</td>\n",
       "    </tr>\n",
       "    <tr>\n",
       "      <td>2</td>\n",
       "      <td>10000</td>\n",
       "      <td>10001</td>\n",
       "      <td>10010</td>\n",
       "      <td>10011</td>\n",
       "      <td>10100</td>\n",
       "      <td>10101</td>\n",
       "      <td>10110</td>\n",
       "      <td>10111</td>\n",
       "    </tr>\n",
       "    <tr>\n",
       "      <td>3</td>\n",
       "      <td>11000</td>\n",
       "      <td>11001</td>\n",
       "      <td>11010</td>\n",
       "      <td>11011</td>\n",
       "      <td>11100</td>\n",
       "      <td>11101</td>\n",
       "      <td>11110</td>\n",
       "      <td>11111</td>\n",
       "    </tr>\n",
       "    <tr>\n",
       "      <td>4</td>\n",
       "      <td>100000</td>\n",
       "      <td>100001</td>\n",
       "      <td>100010</td>\n",
       "      <td>100011</td>\n",
       "      <td>100100</td>\n",
       "      <td>100101</td>\n",
       "      <td>100110</td>\n",
       "      <td>100111</td>\n",
       "    </tr>\n",
       "    <tr>\n",
       "      <td>5</td>\n",
       "      <td>101000</td>\n",
       "      <td>101001</td>\n",
       "      <td>101010</td>\n",
       "      <td>101011</td>\n",
       "      <td>101100</td>\n",
       "      <td>101101</td>\n",
       "      <td>101110</td>\n",
       "      <td>101111</td>\n",
       "    </tr>\n",
       "    <tr>\n",
       "      <td>6</td>\n",
       "      <td>110000</td>\n",
       "      <td>110001</td>\n",
       "      <td>110010</td>\n",
       "      <td>110011</td>\n",
       "      <td>110100</td>\n",
       "      <td>110101</td>\n",
       "      <td>110110</td>\n",
       "      <td>110111</td>\n",
       "    </tr>\n",
       "    <tr>\n",
       "      <td>7</td>\n",
       "      <td>111000</td>\n",
       "      <td>111001</td>\n",
       "      <td>111010</td>\n",
       "      <td>111011</td>\n",
       "      <td>111100</td>\n",
       "      <td>111101</td>\n",
       "      <td>111110</td>\n",
       "      <td>111111</td>\n",
       "    </tr>\n",
       "  </tbody>\n",
       "</table>\n",
       "</div>"
      ],
      "text/plain": [
       "        0       1       2       3       4       5       6       7\n",
       "0       0       1      10      11     100     101     110     111\n",
       "1    1000    1001    1010    1011    1100    1101    1110    1111\n",
       "2   10000   10001   10010   10011   10100   10101   10110   10111\n",
       "3   11000   11001   11010   11011   11100   11101   11110   11111\n",
       "4  100000  100001  100010  100011  100100  100101  100110  100111\n",
       "5  101000  101001  101010  101011  101100  101101  101110  101111\n",
       "6  110000  110001  110010  110011  110100  110101  110110  110111\n",
       "7  111000  111001  111010  111011  111100  111101  111110  111111"
      ]
     },
     "execution_count": 73,
     "metadata": {},
     "output_type": "execute_result"
    }
   ],
   "source": [
    "# CONVERT NUMBERS TO BINARY\n",
    "\n",
    "binaries = []\n",
    "for i in np.arange(64):\n",
    "    binary = bin(i)[2:]\n",
    "    binaries.append(binary)\n",
    "binaries = np.array(binaries).reshape(8,8)\n",
    "binary_board = pd.DataFrame(binaries)\n",
    "binary_board"
   ]
  },
  {
   "cell_type": "markdown",
   "metadata": {},
   "source": [
    "## The Strategies"
   ]
  },
  {
   "cell_type": "markdown",
   "metadata": {},
   "source": [
    "### Number 1: Mod Sum"
   ]
  },
  {
   "cell_type": "code",
   "execution_count": 97,
   "metadata": {
    "ExecuteTime": {
     "end_time": "2020-07-06T17:42:11.852579Z",
     "start_time": "2020-07-06T17:42:11.842190Z"
    }
   },
   "outputs": [
    {
     "data": {
      "text/plain": [
       "43"
      ]
     },
     "execution_count": 97,
     "metadata": {},
     "output_type": "execute_result"
    }
   ],
   "source": [
    "# TAKE DOT PRODUCT OF CHESS BOARD AND NUMBERED (0-63) BOARD, REDUCE THE SCALAR SUM MOD 64\n",
    "\n",
    "combined = board * numbered\n",
    "total_sum = sum(sum(combined.values))\n",
    "mod_sum = total_sum % 64\n",
    "mod_sum"
   ]
  },
  {
   "cell_type": "markdown",
   "metadata": {},
   "source": [
    "- the \"current state\" of the board is \"encoded\" as 43, the possibilities, due to the mod, are 0 through 63\n",
    "- wherever the key is placed will be given the code of 0 through 63 on the \"numbered\" board, and that is the desired \"end state\"\n",
    "- with this strategy, we can flip the coin on the numbered space that is the difference between the \"current state\" and the desired \"end state\"\n",
    "- for example, the \"current state\" is 43. Say that the key is placed under space 57. We would flip the coin in space 14 from 0 to 1\n",
    "- or \"unflip\" the coin in space 50\n",
    "- this will increase the mod sum from 43 to 57\n",
    "- this would communicate to prisoner 2, when he calculates that the mod sum is now 57, that the key is under that space\n"
   ]
  },
  {
   "cell_type": "markdown",
   "metadata": {},
   "source": [
    "- However, this strategy only wins 75% of the time\n",
    "- If the key is placed under space 59, we would need to flip 16 or \"unflip\" (from 1 to 0 or tails to heads) 48\n",
    "- Since 16 is already \"flipped\" (tails), and 48 is already unflipped (heads), we lose\n",
    "- 1/4th of the time, we will get 2 Trues, 1/4th we will get 2 Falses, and the other 1/2 will be split True and False. We only need one True though\n",
    "- So only 1/4th of the time will each of the two coins be in the wrong 50/50 state for us, giving us 2 Falses\n",
    "- Since the warden is allowed to know the plan, he will flip the coins so that this happens to us every time, and we lose"
   ]
  },
  {
   "cell_type": "code",
   "execution_count": 168,
   "metadata": {
    "ExecuteTime": {
     "end_time": "2020-07-06T18:51:48.062782Z",
     "start_time": "2020-07-06T18:51:48.056056Z"
    },
    "cell_style": "center"
   },
   "outputs": [
    {
     "name": "stdout",
     "output_type": "stream",
     "text": [
      "True\n",
      "True\n"
     ]
    }
   ],
   "source": [
    "# CHANGING THE BOARD SO THAT IT CAN HAVE A MOD SUM OF 57\n",
    "\n",
    "modsum1 = (mod_sum + 1*14) % 64 #flipping 14\n",
    "modsum2 = (mod_sum - 1*50) % 64 #flipping 50\n",
    "print(modsum1 == 57)\n",
    "print(modsum2 == 57)"
   ]
  },
  {
   "cell_type": "code",
   "execution_count": 169,
   "metadata": {
    "ExecuteTime": {
     "end_time": "2020-07-06T18:51:48.446040Z",
     "start_time": "2020-07-06T18:51:48.439368Z"
    },
    "cell_style": "center"
   },
   "outputs": [
    {
     "name": "stdout",
     "output_type": "stream",
     "text": [
      "False\n",
      "True\n"
     ]
    }
   ],
   "source": [
    "# CHANGING THE BOARD SO THAT IT CAN HAVE A MOD SUM OF 58\n",
    "\n",
    "modsum3 = (mod_sum - 1*15) % 64 #flipping 15\n",
    "modsum4 = (mod_sum - 1*49) % 64 #flipping 49\n",
    "print(modsum3 == 58)\n",
    "print(modsum4 == 58)"
   ]
  },
  {
   "cell_type": "code",
   "execution_count": 170,
   "metadata": {
    "ExecuteTime": {
     "end_time": "2020-07-06T18:51:48.753844Z",
     "start_time": "2020-07-06T18:51:48.747337Z"
    },
    "cell_style": "center"
   },
   "outputs": [
    {
     "name": "stdout",
     "output_type": "stream",
     "text": [
      "False\n",
      "False\n"
     ]
    }
   ],
   "source": [
    "# TRYING TO CHANGE THE BOARD SO THAT IT CAN HAVE A MOD SUM OF 59\n",
    "modsum5 = (mod_sum - 1*16) % 64 #flipping 16\n",
    "modsum6 = (mod_sum + 1*48) % 64 #flipping 48\n",
    "print(modsum5 == 59)\n",
    "print(modsum6 == 59)"
   ]
  },
  {
   "cell_type": "markdown",
   "metadata": {},
   "source": [
    "### Number 2: Binary Digits "
   ]
  },
  {
   "cell_type": "markdown",
   "metadata": {
    "ExecuteTime": {
     "end_time": "2020-07-06T18:08:37.448039Z",
     "start_time": "2020-07-06T18:08:37.442362Z"
    }
   },
   "source": [
    "- On binary board, find where each binary digit is \"on\"\n",
    "- The digits in binary go from right to left, and the 8 columns and rows are labeled 0 to 7\n",
    "- The first digit occurs in columns 1,3,5,7\n",
    "- The second digit occurs in columns 2,3,6,7\n",
    "- The third digit occurs in columns 4,5,6,7\n",
    "- The fourth digit occurs in rows 1,3,5,7\n",
    "- The fifth digit occurs in rows 2,3,6,7\n",
    "- The sixth digit occurs in rows 4,5,6,7\n",
    "- Calculate the number of 1s (tails) mod 2 in each of these 6 regions to make a 6 digit binary number that will represent the \"current state\" of the board"
   ]
  },
  {
   "cell_type": "code",
   "execution_count": 258,
   "metadata": {
    "ExecuteTime": {
     "end_time": "2020-07-06T19:34:58.655984Z",
     "start_time": "2020-07-06T19:34:58.636952Z"
    }
   },
   "outputs": [
    {
     "data": {
      "text/plain": [
       "[1, 0, 0, 0, 1, 1]"
      ]
     },
     "execution_count": 258,
     "metadata": {},
     "output_type": "execute_result"
    }
   ],
   "source": [
    "# CALCULATE CURRENT STATE BY SUMMING MOD 2 THE NUMBER OF TAILS IN EACH REGION\n",
    "\n",
    "first_digit = sum(sum(board.iloc[:,[1,3,5,7]].values)) % 2\n",
    "second_digit = sum(sum(board.iloc[:,[2,3,6,7]].values)) % 2\n",
    "third_digit = sum(sum(board.iloc[:,[4,5,6,7]].values)) % 2\n",
    "fourth_digit = sum(sum(board.iloc[[1,3,5,7],:].values)) % 2\n",
    "fifth_digit = sum(sum(board.iloc[[2,3,6,7],:].values)) % 2\n",
    "sixth_digit = sum(sum(board.iloc[[4,5,6,7],:].values)) % 2\n",
    "\n",
    "current_state = [sixth_digit,fifth_digit,fourth_digit,third_digit,second_digit,first_digit]\n",
    "current_state"
   ]
  },
  {
   "cell_type": "markdown",
   "metadata": {
    "ExecuteTime": {
     "end_time": "2020-07-06T18:22:28.371332Z",
     "start_time": "2020-07-06T18:22:28.365489Z"
    }
   },
   "source": [
    "- The \"end state\" must communicate where the key is, so it will be the binary conversion for the square number\n",
    "- For example, if the key is on square 57, then the \"end state\" is 111001"
   ]
  },
  {
   "cell_type": "code",
   "execution_count": 260,
   "metadata": {
    "ExecuteTime": {
     "end_time": "2020-07-06T19:35:48.265958Z",
     "start_time": "2020-07-06T19:35:48.258986Z"
    }
   },
   "outputs": [
    {
     "data": {
      "text/plain": [
       "[1, 1, 1, 0, 0, 1]"
      ]
     },
     "execution_count": 260,
     "metadata": {},
     "output_type": "execute_result"
    }
   ],
   "source": [
    "# CALCULATE END STATE FOR SPACE 57\n",
    "\n",
    "end_state = list((bin(57)[2:]))\n",
    "end_state = list(map(int, end_state))\n",
    "end_state"
   ]
  },
  {
   "cell_type": "markdown",
   "metadata": {},
   "source": [
    "- Now we must make some changes to get from the current state to the end state\n",
    "- In this example, this means changing the second, fourth, and fifth digits\n",
    "- This change is represented by 011010\n",
    "- Square number 26 has that code, so we will flip the coin in that square\n",
    "- Puzzle solved! This strategy has a 100% chance of success"
   ]
  },
  {
   "cell_type": "markdown",
   "metadata": {},
   "source": [
    "## Solution Function"
   ]
  },
  {
   "cell_type": "code",
   "execution_count": 263,
   "metadata": {
    "ExecuteTime": {
     "end_time": "2020-07-06T19:38:13.644456Z",
     "start_time": "2020-07-06T19:38:13.626695Z"
    }
   },
   "outputs": [],
   "source": [
    "def find_coin(board, key:int):\n",
    "    '''given a board setup (dataframe) and the key space (integer), find the right coin to flip'''\n",
    "    \n",
    "    #find current state\n",
    "    first_digit = sum(sum(board.iloc[:,[1,3,5,7]].values)) % 2\n",
    "    second_digit = sum(sum(board.iloc[:,[2,3,6,7]].values)) % 2\n",
    "    third_digit = sum(sum(board.iloc[:,[4,5,6,7]].values)) % 2\n",
    "    fourth_digit = sum(sum(board.iloc[[1,3,5,7],:].values)) % 2\n",
    "    fifth_digit = sum(sum(board.iloc[[2,3,6,7],:].values)) % 2\n",
    "    sixth_digit = sum(sum(board.iloc[[4,5,6,7],:].values)) % 2\n",
    "    \n",
    "    current_state = [sixth_digit,fifth_digit,fourth_digit,third_digit,second_digit,first_digit]\n",
    "    \n",
    "    #find end state, format it\n",
    "    key_binary = list(map(int, list((bin(key)[2:]))))\n",
    "    length = len(key_binary)\n",
    "    end_state = list(map(int,np.zeros(6 - length)))\n",
    "    for i in np.arange(length):\n",
    "        end_state.append(key_binary[i])\n",
    "    end_state\n",
    "    \n",
    "    #assert current state and end state are same length\n",
    "    assert len(current_state) == len(end_state)\n",
    "    \n",
    "    #find necessary change\n",
    "    change = []\n",
    "    for i in np.arange(len(current_state)):\n",
    "        if current_state[i] == end_state[i]:\n",
    "            change.append(0)\n",
    "        else:\n",
    "            change.append(1)\n",
    "    \n",
    "    #convert binary to decimal\n",
    "    def bin2dec(num_list): \n",
    "        dec_value = 0 \n",
    "        base1 = 1\n",
    "        len1 = len(num_list)\n",
    "        for i in range(len1-1,-1,-1): \n",
    "            if num_list[i] == 1:      \n",
    "                dec_value += base1 \n",
    "            base1 = base1 * 2 \n",
    "        return dec_value\n",
    "    number = bin2dec(change)\n",
    "    \n",
    "    #return necessary coin flip\n",
    "    return print('Flip coin',number)"
   ]
  },
  {
   "cell_type": "code",
   "execution_count": 264,
   "metadata": {
    "ExecuteTime": {
     "end_time": "2020-07-06T19:38:15.033462Z",
     "start_time": "2020-07-06T19:38:15.023064Z"
    }
   },
   "outputs": [
    {
     "name": "stdout",
     "output_type": "stream",
     "text": [
      "Flip coin 26\n"
     ]
    }
   ],
   "source": [
    "find_coin(board, 57)"
   ]
  }
 ],
 "metadata": {
  "kernelspec": {
   "display_name": "Python 3",
   "language": "python",
   "name": "python3"
  },
  "language_info": {
   "codemirror_mode": {
    "name": "ipython",
    "version": 3
   },
   "file_extension": ".py",
   "mimetype": "text/x-python",
   "name": "python",
   "nbconvert_exporter": "python",
   "pygments_lexer": "ipython3",
   "version": "3.7.4"
  },
  "toc": {
   "base_numbering": 1,
   "nav_menu": {
    "height": "181px",
    "width": "237px"
   },
   "number_sections": false,
   "sideBar": true,
   "skip_h1_title": false,
   "title_cell": "Table of Contents",
   "title_sidebar": "Contents",
   "toc_cell": false,
   "toc_position": {},
   "toc_section_display": true,
   "toc_window_display": false
  }
 },
 "nbformat": 4,
 "nbformat_minor": 2
}
